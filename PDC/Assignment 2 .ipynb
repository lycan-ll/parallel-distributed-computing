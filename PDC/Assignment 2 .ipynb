{
 "cells": [
  {
   "cell_type": "code",
   "execution_count": 1,
   "id": "7e71d505",
   "metadata": {},
   "outputs": [
    {
     "name": "stdout",
     "output_type": "stream",
     "text": [
      "sllist([13697, 13698, 13699])\n"
     ]
    }
   ],
   "source": [
    "import llist\n",
    "from llist import sllist,sllistnode\n",
    "import os\n",
    "import signal\n",
    "\n",
    "l = sllist()\n",
    "\n",
    "def f(n):\n",
    "    for i in range(n):\n",
    "        pid = os.fork()\n",
    "        l.append(pid)\n",
    "        os.kill(pid, signal.SIGKILL)\n",
    "\n",
    "f(3)\n",
    "print(l)"
   ]
  },
  {
   "cell_type": "code",
   "execution_count": 6,
   "id": "e8758872",
   "metadata": {},
   "outputs": [
    {
     "name": "stdout",
     "output_type": "stream",
     "text": [
      "Collecting llist\n",
      "  Downloading llist-0.7.1.tar.gz (42 kB)\n",
      "\u001b[2K     \u001b[38;2;114;156;31m━━━━━━━━━━━━━━━━━━━━━━━━━━━━━━━━━━━━━━━\u001b[0m \u001b[32m43.0/43.0 kB\u001b[0m \u001b[31m756.7 kB/s\u001b[0m eta \u001b[36m0:00:00\u001b[0m31m2.0 MB/s\u001b[0m eta \u001b[36m0:00:01\u001b[0m\n",
      "\u001b[?25h  Preparing metadata (setup.py) ... \u001b[?25ldone\n",
      "\u001b[?25hBuilding wheels for collected packages: llist\n",
      "  Building wheel for llist (setup.py) ... \u001b[?25ldone\n",
      "\u001b[?25h  Created wheel for llist: filename=llist-0.7.1-cp39-cp39-linux_x86_64.whl size=22371 sha256=22b2674cff38bf48f2728db02c69049839eeed3bd2b92e0f3027ff95d4a89ad3\n",
      "  Stored in directory: /home/lycan/.cache/pip/wheels/df/20/a3/4e7de50a5ad9162759c9ebcc2c33192d508457c9a140193fd5\n",
      "Successfully built llist\n",
      "Installing collected packages: llist\n",
      "Successfully installed llist-0.7.1\n",
      "Note: you may need to restart the kernel to use updated packages.\n"
     ]
    }
   ],
   "source": [
    "pip install llist\n"
   ]
  },
  {
   "cell_type": "code",
   "execution_count": null,
   "id": "a6eb1f2c",
   "metadata": {},
   "outputs": [],
   "source": []
  }
 ],
 "metadata": {
  "kernelspec": {
   "display_name": "Python 3 (ipykernel)",
   "language": "python",
   "name": "python3"
  },
  "language_info": {
   "codemirror_mode": {
    "name": "ipython",
    "version": 3
   },
   "file_extension": ".py",
   "mimetype": "text/x-python",
   "name": "python",
   "nbconvert_exporter": "python",
   "pygments_lexer": "ipython3",
   "version": "3.9.13"
  }
 },
 "nbformat": 4,
 "nbformat_minor": 5
}
